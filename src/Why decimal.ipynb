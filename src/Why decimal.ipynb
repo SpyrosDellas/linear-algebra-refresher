{
 "cells": [
  {
   "cell_type": "markdown",
   "metadata": {},
   "source": [
    "### The necessity of decimal arithmetic.\n",
    "\n",
    "Source: http://speleotrove.com/decimal\n",
    "\n",
    "Most computers today support binary floating-point in hardware. \n",
    "While suitable for many purposes, binary floating-point arithmetic \n",
    "should not be used for FINANCIAL, COMMERCIAL, and USER-CENTRIC \n",
    "applications or WEB SERVICES because the decimal data used in these \n",
    "applications cannot be represented exactly using binary floating-point.\n",
    "Finally, there are LEGAL and other requirements (for example, in Euro regulations) \n",
    "which dictate the working precision (in decimal digits) and rounding method \n",
    "(to decimal digits) to be used for calculations. These requirements can ONLY BE\n",
    "MET BY WORKING IN BASE 10, using an arithmetic which preserves precision.\n",
    "\n",
    "The problems of binary floating-point can be avoided by using base 10 (decimal) \n",
    "exponents and preserving those exponents where possible. \n",
    "IEEE published in August 2008 the revised standard for floating-point arithmetic\n",
    "‘IEEE 754-2008’ with includes decimal arithmetic.\n",
    "The ISO/IEC/IEEE 60559:2011 standard was published by ISO in July 2011. \n",
    "\n",
    "Do applications actually use decimal data?\n",
    "Yes. Data collected for a survey of commercial databases analyzed the column \n",
    "datatypes of databases owned by 51 major organizations. These databases covered\n",
    "a wide range of applications, including Airline systems, Banking, Financial Analysis, \n",
    "Insurance, Inventory control, Management reporting, Marketing services, Order entry, \n",
    "Order processing, Pharmaceutical applications, and Retail sales.\n",
    "The results indicate that ALMOST ALL (98.6%) of the numbers in commercial databases \n",
    "have a decimal or integer representation, and the majority are decimal (scaled \n",
    "by a power of ten). The integer types are often held as decimal numbers, and in this \n",
    "case almost all numeric data are decimal.\n",
    "\n",
    "All modern programming languages, including C++, Java and Python, support\n",
    "decimal arithmetic.\n",
    "\n",
    "\n",
    "What disadvantages are there in using decimal arithmetic?\n",
    "Decimal numbers are traditionally held in a binary coded decimal form which uses \n",
    "about 20% more storage than a purely binary representation.\n",
    "Calculations in decimal can therefore require about 15% more circuitry than pure \n",
    "binary calculations, and will typically be a little slower. However, if conversions \n",
    "would be needed to use a binary representation because the data are in a decimal base \n",
    "then it can be considerably more efficient to do the calculations in decimal.\n",
    "Some properties that hold for binary do not hold for any other base. \n",
    "For example, (d ÷ 2) × 2 gives d in binary (unless there is an underflow), but with \n",
    "base 10 it might not if d is full precision and d ÷ 2 is Inexact.\n",
    "Currently, binary floating-point is usually implemented by the hardware in a computer, \n",
    "whereas decimal floating-point is implemented in software. This means that decimal \n",
    "computations are slower than binary operations (typically between 100 and 1000 times slower).\n",
    "Binary floating-point is therefore widely used for ‘numerically intensive’ work where \n",
    "performance is the main concern. This is likely to continue to be the case for some time."
   ]
  },
  {
   "cell_type": "code",
   "execution_count": 7,
   "metadata": {},
   "outputs": [
    {
     "name": "stdout",
     "output_type": "stream",
     "text": [
      "Example 1:\n",
      "The expression (0.1 + 0.2 == 0.3) evaluates to: False\n",
      "\n"
     ]
    }
   ],
   "source": [
    "\"\"\"Example 1: The expression (0.1 + 0.2 == 0.3) evaluates to False!\"\"\"\n",
    "\n",
    "print(\"Example 1:\")\n",
    "print(\"The expression (0.1 + 0.2 == 0.3) evaluates to: {}\\n\".format(0.1 + 0.2 == 0.3))"
   ]
  },
  {
   "cell_type": "code",
   "execution_count": 12,
   "metadata": {},
   "outputs": [
    {
     "name": "stdout",
     "output_type": "stream",
     "text": [
      "Example 2:\n",
      "Decimal value: 9\t Floating point value: 9.0000000000000000000000000000000000000000000000000000000\n",
      "Decimal value: 0.9\t Floating point value: 0.9000000000000000222044604925031308084726333618164062500\n",
      "Decimal value: 0.09\t Floating point value: 0.0899999999999999966693309261245303787291049957275390625\n",
      "Decimal value: 0.009\t Floating point value: 0.0089999999999999993199883974170916189905256032943725586\n",
      "Decimal value: 0.0009\t Floating point value: 0.0008999999999999999753669266411293392593506723642349243\n",
      "Decimal value: 0.00009\t Floating point value: 0.0000899999999999999921156818016854117558978032320737839\n",
      "Decimal value: 0.000009\t Floating point value: 0.0000089999999999999985339418223651009043351223226636648\n",
      "Decimal value: 9E-7\t Floating point value: 0.0000008999999999999998533941822365100904335122322663665\n",
      "Decimal value: 9E-8\t Floating point value: 0.0000000899999999999999853394182236510090433512232266366\n",
      "Decimal value: 9E-9\t Floating point value: 0.0000000089999999999999978721973323226787644379953690077\n",
      "\n"
     ]
    }
   ],
   "source": [
    "\"\"\"Example 2: Taking the number 9 and repeatedly dividing by 10 yields the following results:\"\"\"\n",
    "\n",
    "import decimal as dc\n",
    "\n",
    "dc.getcontext().prec = 2\n",
    "decimal_value = dc.Decimal(9) * 1\n",
    "binary_value = 9.0\n",
    "print(\"Example 2:\")\n",
    "for _ in range(10):\n",
    "    print(\"Decimal value: {}\\t Floating point value: {:.55f}\".format(decimal_value, binary_value))\n",
    "    decimal_value /= 10\n",
    "    binary_value /= 10\n",
    "print()"
   ]
  },
  {
   "cell_type": "markdown",
   "metadata": {},
   "source": [
    "#### In decimal arithmetic the operation 1.00 % 0.10 evaluates to 0. However, using binary floating-point, calculating the remainder when 1.00 is divided by 0.10 will give a result of exactly 0.0999999999999999500399638918679556809365749359130859375. \n",
    "#### Even if rounded, this will still give a result of 0.1!"
   ]
  },
  {
   "cell_type": "code",
   "execution_count": 15,
   "metadata": {},
   "outputs": [
    {
     "name": "stdout",
     "output_type": "stream",
     "text": [
      "Example 3:\n",
      "1.0 % 0.1 evaluates to 0.0999999999999999500399638918679556809365749359130859375\n",
      "Even if rounded it still evaluates to 0.100000, instead of 0.0\n",
      "\n"
     ]
    }
   ],
   "source": [
    "print(\"Example 3:\")\n",
    "print(\"1.0 % 0.1 evaluates to {:.55f}\".format(1 % 0.1))\n",
    "print(\"Even if rounded it still evaluates to {:3f}, instead of 0.0\\n\".format(1 % 0.1))"
   ]
  },
  {
   "cell_type": "markdown",
   "metadata": {},
   "source": [
    "##### The Patriot missile failure in 1991\n",
    "\n",
    "On February 25, 1991, during the Gulf War, an American Patriot Missile battery \n",
    "in Dharan, Saudi Arabia, failed to track and intercept an incoming Iraqi Scud missile. \n",
    "The Scud struck an American Army barracks, killing 28 soldiers and injuring around 100 other people. \n",
    "A report of the General Accounting office, GAO/IMTEC-92-26, entitled 'Patriot Missile Defense: Software \n",
    "Problem Led to System Failure at Dhahran, Saudi Arabia' reported on the cause of the failure. \n",
    "It turns out that the cause was an inaccurate calculation of the time since boot due to computer \n",
    "arithmetic errors. Specifically, the time in tenths of second as measured by the system's internal \n",
    "clock was multiplied by 1/10 to produce the time in seconds. This calculation was performed using \n",
    "a 24 bit fixed point register. In particular, the value 1/10, which has a non-terminating binary \n",
    "expansion, was chopped at 24 bits after the radix point. The small chopping error, when multiplied by \n",
    "the large number giving the time in tenths of a second, led to a significant error. Indeed, the Patriot \n",
    "battery had been up around 100 hours, and an easy calculation shows that the resulting time error due to \n",
    "the magnified chopping error was about 0.34 seconds. \n",
    "\n",
    "(The number 1/10 equals 1/24+1/25+1/28+1/29+1/212+1/213+.... In other words, the binary expansion \n",
    "of 1/10 is 0.0001100110011001100110011001100.... Now the 24 bit register in the Patriot stored \n",
    "instead 0.00011001100110011001100 introducing an error of 0.0000000000000000000000011001100... binary, \n",
    "or about 0.000000095 decimal. Multiplying by the number of tenths of a second in 100 hours gives \n",
    "0.000000095×100×60×60×10=0.34.) A Scud travels at about 1,676 meters per second, and so travels more \n",
    "than half a kilometer in this time. This was far enough that the incoming Scud was outside the \"range gate\" \n",
    "that the Patriot tracked. Ironically, the fact that the bad time calculation had been improved in some parts \n",
    "of the code, but not all, contributed to the problem, since it meant that the inaccuracies did not cancel, \n",
    "as discussed here:\n",
    "\n",
    "The GAO report contains some additional information. The internal clock kept time as an integer value in\n",
    "units of tenths of a second, and the computer's registers were only 24 bits long. This and the consistency in\n",
    "the time lags suggested that the error was caused by a fixed-point 24-bit representation of 0.1 in base 2. The\n",
    "base 2 representation of 0.1 is nonterminating; for the first 23 binary digits after the binary point, the value \n",
    "is 0.1 ! (1 - 2-20). The use of 0.1 ! (1 - 2-20) in obtaining a floating-point value of time in seconds would\n",
    "cause all times to be reduced by 0.0001%.\n",
    "\n",
    "This does not really explain the tracking errors, however, because the tracking of a missile should depend\n",
    "not on the absolute clock-time but rather on the time that elapsed between two different radar pulses. And\n",
    "because of the consistency of the errors, this time difference should be in error by only 0.0001%, a truly\n",
    "insignificant amount.\n",
    "\n",
    "Further inquiries cleared up the mystery. It turns out that the hypothesis concerning the truncated binary\n",
    "representation of 0.1 was essentially correct. A 24-bit representation of 0.1 was used to multiply the clocktime,\n",
    "yielding a result in a pair of 24-bit registers. This was transformed into a 48-bit floating-point number.\n",
    "The software used had been written in assembly language 20 years ago. When Patriot systems were brought\n",
    "into the Gulf conflict, the software was modified (several times) to cope with the high speed of ballistic\n",
    "missiles, for which the system was not originally designed.\n",
    "\n",
    "At least one of these software modifications was the introduction of a subroutine for converting clock-time\n",
    "more accurately into floating-point. This calculation was needed in about half a dozen places in the\n",
    "program, but the call to the subroutine was not inserted at every point where it was needed. Hence, with a\n",
    "less accurate truncated time of one radar pulse being subtracted from a more accurate time of another radar\n",
    "pulse, the error no longer cancelled.\n",
    "\n",
    "In the case of the Dhahran Scud, the clock had run up a time of 100 hours, so the calculated elapsed time\n",
    "was too long by 2-20 ! 100 hours = 0.3433 seconds, during which time a Scud would be expected to travel\n",
    "more than half a kilometer"
   ]
  },
  {
   "cell_type": "code",
   "execution_count": null,
   "metadata": {
    "collapsed": true
   },
   "outputs": [],
   "source": [
    "\n"
   ]
  }
 ],
 "metadata": {
  "kernelspec": {
   "display_name": "Python 3",
   "language": "python",
   "name": "python3"
  },
  "language_info": {
   "codemirror_mode": {
    "name": "ipython",
    "version": 3
   },
   "file_extension": ".py",
   "mimetype": "text/x-python",
   "name": "python",
   "nbconvert_exporter": "python",
   "pygments_lexer": "ipython3",
   "version": "3.7.9"
  }
 },
 "nbformat": 4,
 "nbformat_minor": 2
}
